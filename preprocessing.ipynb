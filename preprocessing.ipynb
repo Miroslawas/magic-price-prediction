{
 "cells": [
  {
   "cell_type": "code",
   "execution_count": 6,
   "metadata": {},
   "outputs": [],
   "source": [
    "from glob import glob \n",
    "import os"
   ]
  },
  {
   "cell_type": "code",
   "execution_count": 9,
   "metadata": {},
   "outputs": [],
   "source": [
    "base_path = '/development/datasets/magic-gathering'"
   ]
  },
  {
   "cell_type": "code",
   "execution_count": 10,
   "metadata": {},
   "outputs": [
    {
     "data": {
      "text/plain": [
       "['/development/datasets/magic-gathering/magic-the-gathering-cards.zip',\n",
       " '/development/datasets/magic-gathering/magic-the-gathering-cards',\n",
       " '/development/datasets/magic-gathering/Untitled.ipynb',\n",
       " '/development/datasets/magic-gathering/cards',\n",
       " '/development/datasets/magic-gathering/cards_infos',\n",
       " '/development/datasets/magic-gathering/6227e6c981cce27c',\n",
       " '/development/datasets/magic-gathering/AllPrintings.json_out']"
      ]
     },
     "execution_count": 10,
     "metadata": {},
     "output_type": "execute_result"
    }
   ],
   "source": [
    "glob('/development/datasets/magic-gathering/*')"
   ]
  },
  {
   "cell_type": "code",
   "execution_count": 11,
   "metadata": {},
   "outputs": [],
   "source": [
    "with open(os.path.join(base_path, 'AllPrintings.json_out')) as in_str:\n",
    "    content = in_str.read()"
   ]
  },
  {
   "cell_type": "code",
   "execution_count": 16,
   "metadata": {},
   "outputs": [],
   "source": [
    "import json"
   ]
  },
  {
   "cell_type": "code",
   "execution_count": 17,
   "metadata": {},
   "outputs": [],
   "source": [
    "data = json.loads(content)"
   ]
  },
  {
   "cell_type": "code",
   "execution_count": 29,
   "metadata": {},
   "outputs": [],
   "source": [
    "cards = []\n",
    "\n",
    "for edition_id in data.keys():\n",
    "    for card in data[edition_id]['cards']:\n",
    "        card['edition_id'] = edition_id\n",
    "        cards.append(card)"
   ]
  },
  {
   "cell_type": "code",
   "execution_count": 38,
   "metadata": {},
   "outputs": [],
   "source": [
    "import pandas as pd"
   ]
  },
  {
   "cell_type": "code",
   "execution_count": 40,
   "metadata": {},
   "outputs": [],
   "source": [
    "df = pd.DataFrame.from_records(cards)"
   ]
  },
  {
   "cell_type": "code",
   "execution_count": 46,
   "metadata": {},
   "outputs": [
    {
     "name": "stdout",
     "output_type": "stream",
     "text": [
      "Requirement already satisfied: pyarrow in /development/virtual-environments/magic-gathering/lib/python3.7/site-packages (0.15.1)\n",
      "Requirement already satisfied: fastparquet in /development/virtual-environments/magic-gathering/lib/python3.7/site-packages (0.3.2)\n",
      "Collecting snappy\n",
      "\u001b[?25l  Downloading https://files.pythonhosted.org/packages/02/51/1b391edca58c97480b75ea29dc7b9f1eed07759e6a4f393dcc2a6cd69f40/snappy-2.7-cp37-cp37m-macosx_10_6_intel.whl (14.9MB)\n",
      "\u001b[K    100% |████████████████████████████████| 14.9MB 2.8MB/s ta 0:00:011\n",
      "\u001b[?25hRequirement already satisfied: six>=1.0.0 in /development/virtual-environments/magic-gathering/lib/python3.7/site-packages (from pyarrow) (1.13.0)\n",
      "Requirement already satisfied: numpy>=1.14 in /development/virtual-environments/magic-gathering/lib/python3.7/site-packages (from pyarrow) (1.17.4)\n",
      "Requirement already satisfied: pandas>=0.19 in /development/virtual-environments/magic-gathering/lib/python3.7/site-packages (from fastparquet) (0.25.3)\n",
      "Requirement already satisfied: thrift>=0.11.0 in /development/virtual-environments/magic-gathering/lib/python3.7/site-packages (from fastparquet) (0.11.0)\n",
      "Requirement already satisfied: numba>=0.28 in /development/virtual-environments/magic-gathering/lib/python3.7/site-packages (from fastparquet) (0.46.0)\n",
      "Collecting cypari>=2.2 (from snappy)\n",
      "  Using cached https://files.pythonhosted.org/packages/d6/dc/db30259dc215188f4f937184c16fd9d5908d60ca2932dfbffa427b01e286/cypari-2.3.0-cp37-cp37m-macosx_10_6_intel.whl\n",
      "Collecting spherogram>=1.8.1 (from snappy)\n",
      "\u001b[?25l  Downloading https://files.pythonhosted.org/packages/df/fa/114a622497cbd80be09437af48409001d7da98d68d54239f9909b91531fc/spherogram-1.8.2-cp37-cp37m-macosx_10_6_intel.whl (567kB)\n",
      "\u001b[K    100% |████████████████████████████████| 573kB 20.5MB/s ta 0:00:01\n",
      "\u001b[?25hCollecting future (from snappy)\n",
      "\u001b[?25l  Downloading https://files.pythonhosted.org/packages/45/0b/38b06fd9b92dc2b68d58b75f900e97884c45bedd2ff83203d933cf5851c9/future-0.18.2.tar.gz (829kB)\n",
      "\u001b[K    100% |████████████████████████████████| 829kB 5.7MB/s ta 0:00:011\n",
      "\u001b[?25hRequirement already satisfied: decorator in /development/virtual-environments/magic-gathering/lib/python3.7/site-packages (from snappy) (4.4.1)\n",
      "Collecting plink>=2.2 (from snappy)\n",
      "\u001b[?25l  Downloading https://files.pythonhosted.org/packages/72/f0/33f4412761b6b1538bf599a1d47c3b5b877b28e801023b96ad69e4fe7f54/plink-2.3-py2.py3-none-any.whl (549kB)\n",
      "\u001b[K    100% |████████████████████████████████| 552kB 28.5MB/s ta 0:00:01\n",
      "\u001b[?25hCollecting snappy-manifolds>=1.0 (from snappy)\n",
      "\u001b[?25l  Downloading https://files.pythonhosted.org/packages/7a/85/49b081dc5056cc465972ee27133fde235ec8c5440d3aad85de6d0598a65e/snappy_manifolds-1.1-py2.py3-none-any.whl (45.0MB)\n",
      "\u001b[K    100% |████████████████████████████████| 45.0MB 919kB/s ta 0:00:011\n",
      "\u001b[?25hCollecting FXrays>=1.3 (from snappy)\n",
      "  Using cached https://files.pythonhosted.org/packages/11/34/a5b419b064f62855155e6ec3a267031ced98baef2c768ff830f5bb40c9e7/FXrays-1.3.3-cp37-cp37m-macosx_10_6_intel.whl\n",
      "Requirement already satisfied: ipython>=0.13 in /development/virtual-environments/magic-gathering/lib/python3.7/site-packages (from snappy) (7.9.0)\n",
      "Collecting pypng (from snappy)\n",
      "\u001b[?25l  Downloading https://files.pythonhosted.org/packages/bc/fb/f719f1ac965e2101aa6ea6f54ef8b40f8fbb033f6ad07c017663467f5147/pypng-0.0.20.tar.gz (649kB)\n",
      "\u001b[K    100% |████████████████████████████████| 655kB 4.4MB/s ta 0:00:011\n",
      "\u001b[?25hRequirement already satisfied: python-dateutil>=2.6.1 in /development/virtual-environments/magic-gathering/lib/python3.7/site-packages (from pandas>=0.19->fastparquet) (2.8.1)\n",
      "Requirement already satisfied: pytz>=2017.2 in /development/virtual-environments/magic-gathering/lib/python3.7/site-packages (from pandas>=0.19->fastparquet) (2019.3)\n",
      "Requirement already satisfied: llvmlite>=0.30.0dev0 in /development/virtual-environments/magic-gathering/lib/python3.7/site-packages (from numba>=0.28->fastparquet) (0.30.0)\n",
      "Collecting networkx>=1.3 (from spherogram>=1.8.1->snappy)\n",
      "  Using cached https://files.pythonhosted.org/packages/41/8f/dd6a8e85946def36e4f2c69c84219af0fa5e832b018c970e92f2ad337e45/networkx-2.4-py3-none-any.whl\n",
      "Requirement already satisfied: setuptools>=18.5 in /development/virtual-environments/magic-gathering/lib/python3.7/site-packages/setuptools-39.1.0-py3.7.egg (from ipython>=0.13->snappy) (39.1.0)\n",
      "Requirement already satisfied: jedi>=0.10 in /development/virtual-environments/magic-gathering/lib/python3.7/site-packages (from ipython>=0.13->snappy) (0.15.1)\n",
      "Requirement already satisfied: appnope; sys_platform == \"darwin\" in /development/virtual-environments/magic-gathering/lib/python3.7/site-packages (from ipython>=0.13->snappy) (0.1.0)\n",
      "Requirement already satisfied: prompt-toolkit<2.1.0,>=2.0.0 in /development/virtual-environments/magic-gathering/lib/python3.7/site-packages (from ipython>=0.13->snappy) (2.0.10)\n",
      "Requirement already satisfied: pygments in /development/virtual-environments/magic-gathering/lib/python3.7/site-packages (from ipython>=0.13->snappy) (2.4.2)\n",
      "Requirement already satisfied: pexpect; sys_platform != \"win32\" in /development/virtual-environments/magic-gathering/lib/python3.7/site-packages (from ipython>=0.13->snappy) (4.7.0)\n",
      "Requirement already satisfied: backcall in /development/virtual-environments/magic-gathering/lib/python3.7/site-packages (from ipython>=0.13->snappy) (0.1.0)\n",
      "Requirement already satisfied: traitlets>=4.2 in /development/virtual-environments/magic-gathering/lib/python3.7/site-packages (from ipython>=0.13->snappy) (4.3.3)\n",
      "Requirement already satisfied: pickleshare in /development/virtual-environments/magic-gathering/lib/python3.7/site-packages (from ipython>=0.13->snappy) (0.7.5)\n",
      "Requirement already satisfied: parso>=0.5.0 in /development/virtual-environments/magic-gathering/lib/python3.7/site-packages (from jedi>=0.10->ipython>=0.13->snappy) (0.5.1)\n",
      "Requirement already satisfied: wcwidth in /development/virtual-environments/magic-gathering/lib/python3.7/site-packages (from prompt-toolkit<2.1.0,>=2.0.0->ipython>=0.13->snappy) (0.1.7)\n",
      "Requirement already satisfied: ptyprocess>=0.5 in /development/virtual-environments/magic-gathering/lib/python3.7/site-packages (from pexpect; sys_platform != \"win32\"->ipython>=0.13->snappy) (0.6.0)\n",
      "Requirement already satisfied: ipython-genutils in /development/virtual-environments/magic-gathering/lib/python3.7/site-packages (from traitlets>=4.2->ipython>=0.13->snappy) (0.2.0)\n",
      "Installing collected packages: future, cypari, snappy-manifolds, networkx, spherogram, plink, FXrays, pypng, snappy\n",
      "  Running setup.py install for future ... \u001b[?25ldone\n",
      "\u001b[?25h  Running setup.py install for pypng ... \u001b[?25ldone\n",
      "\u001b[?25hSuccessfully installed FXrays-1.3.3 cypari-2.3.0 future-0.18.2 networkx-2.4 plink-2.3 pypng-0.0.20 snappy-2.7 snappy-manifolds-1.1 spherogram-1.8.2\n",
      "\u001b[33mYou are using pip version 10.0.1, however version 19.3.1 is available.\n",
      "You should consider upgrading via the 'pip install --upgrade pip' command.\u001b[0m\n"
     ]
    }
   ],
   "source": [
    "!pip install pyarrow fastparquet snappy"
   ]
  },
  {
   "cell_type": "code",
   "execution_count": 48,
   "metadata": {},
   "outputs": [],
   "source": [
    "df.to_parquet(os.path.join(base_path, 'cards.parquet'), engine='fastparquet', compression='gzip')"
   ]
  },
  {
   "cell_type": "code",
   "execution_count": null,
   "metadata": {},
   "outputs": [],
   "source": []
  }
 ],
 "metadata": {
  "kernelspec": {
   "display_name": "Python 3",
   "language": "python",
   "name": "python3"
  },
  "language_info": {
   "codemirror_mode": {
    "name": "ipython",
    "version": 3
   },
   "file_extension": ".py",
   "mimetype": "text/x-python",
   "name": "python",
   "nbconvert_exporter": "python",
   "pygments_lexer": "ipython3",
   "version": "3.7.3"
  }
 },
 "nbformat": 4,
 "nbformat_minor": 4
}
