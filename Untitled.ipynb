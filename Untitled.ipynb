{
 "cells": [
  {
   "cell_type": "code",
   "execution_count": 147,
   "metadata": {},
   "outputs": [
    {
     "name": "stdout",
     "output_type": "stream",
     "text": [
      "Requirement already satisfied: sklearn in /development/virtual-environments/magic-gathering/lib/python3.7/site-packages (0.0)\n",
      "Requirement already satisfied: scikit-learn in /development/virtual-environments/magic-gathering/lib/python3.7/site-packages (from sklearn) (0.21.3)\n",
      "Requirement already satisfied: numpy>=1.11.0 in /development/virtual-environments/magic-gathering/lib/python3.7/site-packages (from scikit-learn->sklearn) (1.17.4)\n",
      "Requirement already satisfied: scipy>=0.17.0 in /development/virtual-environments/magic-gathering/lib/python3.7/site-packages (from scikit-learn->sklearn) (1.3.2)\n",
      "Requirement already satisfied: joblib>=0.11 in /development/virtual-environments/magic-gathering/lib/python3.7/site-packages (from scikit-learn->sklearn) (0.14.0)\n",
      "\u001b[33mYou are using pip version 10.0.1, however version 19.3.1 is available.\n",
      "You should consider upgrading via the 'pip install --upgrade pip' command.\u001b[0m\n"
     ]
    }
   ],
   "source": [
    "!pip install --upgrade pip\n",
    "!pip install sklearn"
   ]
  },
  {
   "cell_type": "code",
   "execution_count": 148,
   "metadata": {},
   "outputs": [],
   "source": [
    "import pandas as pd\n",
    "import sklearn"
   ]
  },
  {
   "cell_type": "code",
   "execution_count": 149,
   "metadata": {},
   "outputs": [],
   "source": [
    "import os"
   ]
  },
  {
   "cell_type": "code",
   "execution_count": 150,
   "metadata": {},
   "outputs": [],
   "source": [
    "base_path = '/development/datasets/magic-gathering/'"
   ]
  },
  {
   "cell_type": "code",
   "execution_count": 151,
   "metadata": {},
   "outputs": [],
   "source": [
    "df = pd.read_parquet(os.path.join(base_path, 'cards.parquet'))"
   ]
  },
  {
   "cell_type": "code",
   "execution_count": 152,
   "metadata": {},
   "outputs": [],
   "source": [
    "from sklearn.ensemble import RandomForestRegressor\n",
    "from sklearn.model_selection import train_test_split"
   ]
  },
  {
   "cell_type": "code",
   "execution_count": 155,
   "metadata": {},
   "outputs": [],
   "source": [
    "import json"
   ]
  },
  {
   "cell_type": "code",
   "execution_count": 282,
   "metadata": {},
   "outputs": [],
   "source": [
    "y = df['regular_price'].apply(json.loads).apply(lambda x: x[list(x.keys())[-1]])"
   ]
  },
  {
   "cell_type": "code",
   "execution_count": null,
   "metadata": {},
   "outputs": [],
   "source": [
    "df['']"
   ]
  },
  {
   "cell_type": "code",
   "execution_count": 157,
   "metadata": {},
   "outputs": [],
   "source": [
    "from sklearn.preprocessing import LabelEncoder, Binarizer"
   ]
  },
  {
   "cell_type": "code",
   "execution_count": 298,
   "metadata": {},
   "outputs": [],
   "source": [
    "x = []"
   ]
  },
  {
   "cell_type": "code",
   "execution_count": 299,
   "metadata": {},
   "outputs": [],
   "source": [
    "label_encoder = LabelEncoder()\n",
    "artist_labels = label_encoder.fit_transform(df['artist'].fillna(''))\n",
    "x.append(pd.Series(artist_labels))"
   ]
  },
  {
   "cell_type": "code",
   "execution_count": 300,
   "metadata": {},
   "outputs": [
    {
     "data": {
      "text/plain": [
       "Index(['artist', 'borderColor', 'colorIdentity', 'colors', 'convertedManaCost',\n",
       "       'edhrecRank', 'frameVersion', 'hasFoil', 'hasNonFoil', 'isMtgo',\n",
       "       'isPaper', 'isReprint', 'layout', 'legalities', 'manaCost',\n",
       "       'mtgoFoilId', 'multiverseId', 'name', 'number', 'originalText',\n",
       "       'originalType', 'printings', 'rarity', 'subtypes', 'supertypes', 'text',\n",
       "       'type', 'types', 'uuid', 'regular_price', 'foil_price', 'edition_id',\n",
       "       'power', 'toughness', 'variations', 'isAlternative', 'leadershipSkills',\n",
       "       'names', 'hasNoDeckLimit', 'isReserved', 'foreignData', 'isStarter',\n",
       "       'rulings', 'scryfallId', 'scryfallIllustrationId', 'scryfallOracleId',\n",
       "       'watermark', 'frameEffect', 'frameEffects', 'loyalty', 'colorIndicator',\n",
       "       'isStorySpotlight', 'faceConvertedManaCost', 'side', 'isFullArt',\n",
       "       'isArena', 'flavorText', 'mcmId', 'mcmMetaId', 'mtgstocksId', 'prices',\n",
       "       'purchaseUrls', 'tcgplayerProductId', 'mtgoId', 'isOnlineOnly',\n",
       "       'mtgArenaId', 'duelDeck', 'isPromo', 'isTimeshifted', 'isOversized',\n",
       "       'isTextless', 'hand', 'life'],\n",
       "      dtype='object')"
      ]
     },
     "execution_count": 300,
     "metadata": {},
     "output_type": "execute_result"
    }
   ],
   "source": [
    "df.columns"
   ]
  },
  {
   "cell_type": "code",
   "execution_count": 301,
   "metadata": {},
   "outputs": [],
   "source": [
    "x.append(df['edhrecRank'])\n",
    "# x.append(df['frameVersion'])"
   ]
  },
  {
   "cell_type": "code",
   "execution_count": 302,
   "metadata": {},
   "outputs": [],
   "source": [
    "binary_cols = ['hasFoil', 'hasNonFoil', 'isMtgo', \n",
    "               'isPaper', 'isReprint', 'isReserved', \n",
    "               'isFullArt', 'isArena', 'isPromo', \n",
    "               'isTimeshifted', 'isOversized', 'isTextless', 'rarity', 'type']\n",
    "\n",
    "for binary_col in binary_cols:\n",
    "    x.append(label_encoder.fit_transform(df[binary_col].fillna(False)))"
   ]
  },
  {
   "cell_type": "code",
   "execution_count": 303,
   "metadata": {},
   "outputs": [],
   "source": [
    "numeric_columns = ['toughness', 'loyalty', 'faceConvertedManaCost']"
   ]
  },
  {
   "cell_type": "code",
   "execution_count": 304,
   "metadata": {},
   "outputs": [
    {
     "name": "stdout",
     "output_type": "stream",
     "text": [
      "toughness\n",
      "loyalty\n"
     ]
    }
   ],
   "source": [
    "for numeric_column in numeric_columns:\n",
    "    try:\n",
    "        x.append(label_encoder.fit_transform(df[numeric_column]))\n",
    "    except:\n",
    "        print(numeric_column)\n",
    "        pass"
   ]
  },
  {
   "cell_type": "code",
   "execution_count": 305,
   "metadata": {},
   "outputs": [],
   "source": [
    "X = pd.concat([pd.Series(_) if not isinstance(_, pd.Series) else _ for _ in x], axis=1).fillna(0)"
   ]
  },
  {
   "cell_type": "code",
   "execution_count": 311,
   "metadata": {},
   "outputs": [],
   "source": [
    "X = X.loc[y.index]"
   ]
  },
  {
   "cell_type": "code",
   "execution_count": 312,
   "metadata": {},
   "outputs": [],
   "source": [
    "modelling_data = pd.concat([X, y], axis=1)"
   ]
  },
  {
   "cell_type": "code",
   "execution_count": 319,
   "metadata": {},
   "outputs": [],
   "source": [
    "modelling_data = modelling_data.dropna()"
   ]
  },
  {
   "cell_type": "code",
   "execution_count": 332,
   "metadata": {},
   "outputs": [],
   "source": [
    "X = modelling_data.iloc[:,:-1]\n",
    "y = modelling_data.iloc[:,-1].replace('', 0).astype(float)"
   ]
  },
  {
   "cell_type": "code",
   "execution_count": 333,
   "metadata": {},
   "outputs": [],
   "source": [
    "X_train, X_test, y_train, y_test = train_test_split(X, y, test_size=0.33, random_state=42)"
   ]
  },
  {
   "cell_type": "code",
   "execution_count": 341,
   "metadata": {},
   "outputs": [],
   "source": [
    "regr = RandomForestRegressor(max_depth=5, random_state=0, n_estimators=10)"
   ]
  },
  {
   "cell_type": "code",
   "execution_count": 342,
   "metadata": {},
   "outputs": [],
   "source": [
    "fitted = regr.fit(X_train, y_train)"
   ]
  },
  {
   "cell_type": "code",
   "execution_count": 343,
   "metadata": {},
   "outputs": [],
   "source": [
    "from sklearn.model_selection import cross_validate\n",
    "\n",
    "scores = cross_validate(regr, X, y, cv=5, scoring=('r2', 'neg_mean_squared_error'), return_train_score=True)"
   ]
  },
  {
   "cell_type": "code",
   "execution_count": 344,
   "metadata": {},
   "outputs": [
    {
     "data": {
      "text/plain": [
       "{'fit_time': array([0.296     , 0.30352998, 0.26107788, 0.32621908, 0.29041719]),\n",
       " 'score_time': array([0.00758195, 0.00585198, 0.00618005, 0.00766206, 0.00538492]),\n",
       " 'test_r2': array([ 6.02497711e-01, -1.24222139e+03,  3.28460615e-01, -2.22039539e+02,\n",
       "        -2.63424339e+01]),\n",
       " 'train_r2': array([0.76159551, 0.67820957, 0.72766077, 0.65423878, 0.68789341]),\n",
       " 'test_neg_mean_squared_error': array([ -23723.0535388 ,  -15280.24913341, -378121.18775284,\n",
       "         -10976.17678781,   -8806.51809293]),\n",
       " 'train_neg_mean_squared_error': array([-33744.71115409, -50326.68406757,  -4094.86610936, -54073.86249389,\n",
       "        -48791.88065696])}"
      ]
     },
     "execution_count": 344,
     "metadata": {},
     "output_type": "execute_result"
    }
   ],
   "source": [
    "scores"
   ]
  },
  {
   "cell_type": "code",
   "execution_count": null,
   "metadata": {},
   "outputs": [],
   "source": []
  }
 ],
 "metadata": {
  "kernelspec": {
   "display_name": "Python 3",
   "language": "python",
   "name": "python3"
  },
  "language_info": {
   "codemirror_mode": {
    "name": "ipython",
    "version": 3
   },
   "file_extension": ".py",
   "mimetype": "text/x-python",
   "name": "python",
   "nbconvert_exporter": "python",
   "pygments_lexer": "ipython3",
   "version": "3.7.3"
  }
 },
 "nbformat": 4,
 "nbformat_minor": 4
}
